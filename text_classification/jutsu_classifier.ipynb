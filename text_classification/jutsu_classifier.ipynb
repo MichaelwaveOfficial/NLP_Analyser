{
 "cells": [
  {
   "cell_type": "code",
   "execution_count": 41,
   "metadata": {},
   "outputs": [],
   "source": [
    "import pandas as pd"
   ]
  },
  {
   "cell_type": "code",
   "execution_count": 42,
   "metadata": {},
   "outputs": [
    {
     "data": {
      "text/html": [
       "<div>\n",
       "<style scoped>\n",
       "    .dataframe tbody tr th:only-of-type {\n",
       "        vertical-align: middle;\n",
       "    }\n",
       "\n",
       "    .dataframe tbody tr th {\n",
       "        vertical-align: top;\n",
       "    }\n",
       "\n",
       "    .dataframe thead th {\n",
       "        text-align: right;\n",
       "    }\n",
       "</style>\n",
       "<table border=\"1\" class=\"dataframe\">\n",
       "  <thead>\n",
       "    <tr style=\"text-align: right;\">\n",
       "      <th></th>\n",
       "      <th>jutsu_name</th>\n",
       "      <th>jutsu_type</th>\n",
       "      <th>justsu_desc</th>\n",
       "    </tr>\n",
       "  </thead>\n",
       "  <tbody>\n",
       "    <tr>\n",
       "      <th>0</th>\n",
       "      <td>Arm of Shukaku</td>\n",
       "      <td>Ninjutsu</td>\n",
       "      <td>Gaara engulfs himself in a sand barrier as Shu...</td>\n",
       "    </tr>\n",
       "    <tr>\n",
       "      <th>1</th>\n",
       "      <td>Armageddon Countdown Clock</td>\n",
       "      <td>Ninjutsu</td>\n",
       "      <td>After performing the hand seal, a special cloc...</td>\n",
       "    </tr>\n",
       "    <tr>\n",
       "      <th>2</th>\n",
       "      <td>Apricot Blossom Droop</td>\n",
       "      <td>Taijutsu, Ninjutsu</td>\n",
       "      <td>Kurenai attacks her opponent with a combinatio...</td>\n",
       "    </tr>\n",
       "    <tr>\n",
       "      <th>3</th>\n",
       "      <td>Area Scanning Technique</td>\n",
       "      <td>Ninjutsu</td>\n",
       "      <td>By touching a solid surface with their hand or...</td>\n",
       "    </tr>\n",
       "    <tr>\n",
       "      <th>4</th>\n",
       "      <td>Aqua Shoot</td>\n",
       "      <td>Ninjutsu</td>\n",
       "      <td>The user gathers a small orb of water and kick...</td>\n",
       "    </tr>\n",
       "  </tbody>\n",
       "</table>\n",
       "</div>"
      ],
      "text/plain": [
       "                   jutsu_name          jutsu_type  \\\n",
       "0              Arm of Shukaku            Ninjutsu   \n",
       "1  Armageddon Countdown Clock            Ninjutsu   \n",
       "2       Apricot Blossom Droop  Taijutsu, Ninjutsu   \n",
       "3     Area Scanning Technique            Ninjutsu   \n",
       "4                  Aqua Shoot            Ninjutsu   \n",
       "\n",
       "                                         justsu_desc  \n",
       "0  Gaara engulfs himself in a sand barrier as Shu...  \n",
       "1  After performing the hand seal, a special cloc...  \n",
       "2  Kurenai attacks her opponent with a combinatio...  \n",
       "3  By touching a solid surface with their hand or...  \n",
       "4  The user gathers a small orb of water and kick...  "
      ]
     },
     "execution_count": 42,
     "metadata": {},
     "output_type": "execute_result"
    }
   ],
   "source": [
    "## Load Dataset. \n",
    "\n",
    "data_path = '../data/jutsus.jsonl'\n",
    "\n",
    "dataframe = pd.read_json(data_path, lines=True)\n",
    "dataframe.head()"
   ]
  },
  {
   "cell_type": "code",
   "execution_count": 43,
   "metadata": {},
   "outputs": [],
   "source": [
    "def simplify_jutsu_data(jutsu):\n",
    "\n",
    "    ''' '''\n",
    "\n",
    "    if 'Genjutsu' in jutsu:\n",
    "        return 'Genjutsu'\n",
    "    if 'Ninjutsu' in jutsu:\n",
    "        return 'Ninjutsu'\n",
    "    if 'Taijutsu' in jutsu:\n",
    "        return 'Taijutsu'"
   ]
  },
  {
   "cell_type": "code",
   "execution_count": 44,
   "metadata": {},
   "outputs": [
    {
     "data": {
      "text/html": [
       "<div>\n",
       "<style scoped>\n",
       "    .dataframe tbody tr th:only-of-type {\n",
       "        vertical-align: middle;\n",
       "    }\n",
       "\n",
       "    .dataframe tbody tr th {\n",
       "        vertical-align: top;\n",
       "    }\n",
       "\n",
       "    .dataframe thead th {\n",
       "        text-align: right;\n",
       "    }\n",
       "</style>\n",
       "<table border=\"1\" class=\"dataframe\">\n",
       "  <thead>\n",
       "    <tr style=\"text-align: right;\">\n",
       "      <th></th>\n",
       "      <th>jutsu_name</th>\n",
       "      <th>jutsu_type</th>\n",
       "      <th>justsu_desc</th>\n",
       "      <th>jutsu_simplified</th>\n",
       "    </tr>\n",
       "  </thead>\n",
       "  <tbody>\n",
       "    <tr>\n",
       "      <th>0</th>\n",
       "      <td>Arm of Shukaku</td>\n",
       "      <td>Ninjutsu</td>\n",
       "      <td>Gaara engulfs himself in a sand barrier as Shu...</td>\n",
       "      <td>Ninjutsu</td>\n",
       "    </tr>\n",
       "    <tr>\n",
       "      <th>1</th>\n",
       "      <td>Armageddon Countdown Clock</td>\n",
       "      <td>Ninjutsu</td>\n",
       "      <td>After performing the hand seal, a special cloc...</td>\n",
       "      <td>Ninjutsu</td>\n",
       "    </tr>\n",
       "    <tr>\n",
       "      <th>2</th>\n",
       "      <td>Apricot Blossom Droop</td>\n",
       "      <td>Taijutsu, Ninjutsu</td>\n",
       "      <td>Kurenai attacks her opponent with a combinatio...</td>\n",
       "      <td>Ninjutsu</td>\n",
       "    </tr>\n",
       "    <tr>\n",
       "      <th>3</th>\n",
       "      <td>Area Scanning Technique</td>\n",
       "      <td>Ninjutsu</td>\n",
       "      <td>By touching a solid surface with their hand or...</td>\n",
       "      <td>Ninjutsu</td>\n",
       "    </tr>\n",
       "    <tr>\n",
       "      <th>4</th>\n",
       "      <td>Aqua Shoot</td>\n",
       "      <td>Ninjutsu</td>\n",
       "      <td>The user gathers a small orb of water and kick...</td>\n",
       "      <td>Ninjutsu</td>\n",
       "    </tr>\n",
       "    <tr>\n",
       "      <th>5</th>\n",
       "      <td>Arhat Fist</td>\n",
       "      <td>Taijutsu, Fighting Style</td>\n",
       "      <td>This fighting style relies on Jirōbō's brute s...</td>\n",
       "      <td>Taijutsu</td>\n",
       "    </tr>\n",
       "    <tr>\n",
       "      <th>6</th>\n",
       "      <td>Antlion Ninja Arts: Ephemeral</td>\n",
       "      <td>Ninjutsu, Kinjutsu</td>\n",
       "      <td>This article is about the anime-only kinjutsu ...</td>\n",
       "      <td>Ninjutsu</td>\n",
       "    </tr>\n",
       "    <tr>\n",
       "      <th>7</th>\n",
       "      <td>Arm Growth Technique</td>\n",
       "      <td>Ninjutsu</td>\n",
       "      <td>From the shoulders, the user is able to create...</td>\n",
       "      <td>Ninjutsu</td>\n",
       "    </tr>\n",
       "    <tr>\n",
       "      <th>8</th>\n",
       "      <td>10 Hit Combo</td>\n",
       "      <td>Taijutsu</td>\n",
       "      <td>Lars punches the opponent before striking them...</td>\n",
       "      <td>Taijutsu</td>\n",
       "    </tr>\n",
       "    <tr>\n",
       "      <th>9</th>\n",
       "      <td>Animal Path</td>\n",
       "      <td>Kekkei Genkai, Ninjutsu, Dōjutsu</td>\n",
       "      <td>This article is about the ability.  For other ...</td>\n",
       "      <td>Ninjutsu</td>\n",
       "    </tr>\n",
       "  </tbody>\n",
       "</table>\n",
       "</div>"
      ],
      "text/plain": [
       "                      jutsu_name                        jutsu_type  \\\n",
       "0                 Arm of Shukaku                          Ninjutsu   \n",
       "1     Armageddon Countdown Clock                          Ninjutsu   \n",
       "2          Apricot Blossom Droop                Taijutsu, Ninjutsu   \n",
       "3        Area Scanning Technique                          Ninjutsu   \n",
       "4                     Aqua Shoot                          Ninjutsu   \n",
       "5                     Arhat Fist          Taijutsu, Fighting Style   \n",
       "6  Antlion Ninja Arts: Ephemeral                Ninjutsu, Kinjutsu   \n",
       "7           Arm Growth Technique                          Ninjutsu   \n",
       "8                   10 Hit Combo                          Taijutsu   \n",
       "9                    Animal Path  Kekkei Genkai, Ninjutsu, Dōjutsu   \n",
       "\n",
       "                                         justsu_desc jutsu_simplified  \n",
       "0  Gaara engulfs himself in a sand barrier as Shu...         Ninjutsu  \n",
       "1  After performing the hand seal, a special cloc...         Ninjutsu  \n",
       "2  Kurenai attacks her opponent with a combinatio...         Ninjutsu  \n",
       "3  By touching a solid surface with their hand or...         Ninjutsu  \n",
       "4  The user gathers a small orb of water and kick...         Ninjutsu  \n",
       "5  This fighting style relies on Jirōbō's brute s...         Taijutsu  \n",
       "6  This article is about the anime-only kinjutsu ...         Ninjutsu  \n",
       "7  From the shoulders, the user is able to create...         Ninjutsu  \n",
       "8  Lars punches the opponent before striking them...         Taijutsu  \n",
       "9  This article is about the ability.  For other ...         Ninjutsu  "
      ]
     },
     "execution_count": 44,
     "metadata": {},
     "output_type": "execute_result"
    }
   ],
   "source": [
    "dataframe['jutsu_simplified'] = dataframe['jutsu_type'].apply(simplify_jutsu_data)\n",
    "dataframe.head(10)"
   ]
  },
  {
   "cell_type": "code",
   "execution_count": 45,
   "metadata": {},
   "outputs": [
    {
     "data": {
      "text/plain": [
       "jutsu_simplified\n",
       "Ninjutsu    2258\n",
       "Taijutsu     397\n",
       "Genjutsu     101\n",
       "Name: count, dtype: int64"
      ]
     },
     "execution_count": 45,
     "metadata": {},
     "output_type": "execute_result"
    }
   ],
   "source": [
    "dataframe['jutsu_simplified'].value_counts()"
   ]
  },
  {
   "cell_type": "code",
   "execution_count": 46,
   "metadata": {},
   "outputs": [],
   "source": [
    "dataframe['text'] = dataframe['jutsu_name'] + '. ' + dataframe['justsu_desc']\n",
    "dataframe['jutsus'] = dataframe['jutsu_simplified']\n",
    "\n",
    "dataframe = dataframe[['text', 'jutsus']]\n",
    "dataframe = dataframe.dropna()"
   ]
  },
  {
   "cell_type": "code",
   "execution_count": 47,
   "metadata": {},
   "outputs": [
    {
     "data": {
      "text/html": [
       "<div>\n",
       "<style scoped>\n",
       "    .dataframe tbody tr th:only-of-type {\n",
       "        vertical-align: middle;\n",
       "    }\n",
       "\n",
       "    .dataframe tbody tr th {\n",
       "        vertical-align: top;\n",
       "    }\n",
       "\n",
       "    .dataframe thead th {\n",
       "        text-align: right;\n",
       "    }\n",
       "</style>\n",
       "<table border=\"1\" class=\"dataframe\">\n",
       "  <thead>\n",
       "    <tr style=\"text-align: right;\">\n",
       "      <th></th>\n",
       "      <th>text</th>\n",
       "      <th>jutsus</th>\n",
       "    </tr>\n",
       "  </thead>\n",
       "  <tbody>\n",
       "    <tr>\n",
       "      <th>0</th>\n",
       "      <td>Arm of Shukaku. Gaara engulfs himself in a san...</td>\n",
       "      <td>Ninjutsu</td>\n",
       "    </tr>\n",
       "    <tr>\n",
       "      <th>1</th>\n",
       "      <td>Armageddon Countdown Clock. After performing t...</td>\n",
       "      <td>Ninjutsu</td>\n",
       "    </tr>\n",
       "    <tr>\n",
       "      <th>2</th>\n",
       "      <td>Apricot Blossom Droop. Kurenai attacks her opp...</td>\n",
       "      <td>Ninjutsu</td>\n",
       "    </tr>\n",
       "    <tr>\n",
       "      <th>3</th>\n",
       "      <td>Area Scanning Technique. By touching a solid s...</td>\n",
       "      <td>Ninjutsu</td>\n",
       "    </tr>\n",
       "    <tr>\n",
       "      <th>4</th>\n",
       "      <td>Aqua Shoot. The user gathers a small orb of wa...</td>\n",
       "      <td>Ninjutsu</td>\n",
       "    </tr>\n",
       "  </tbody>\n",
       "</table>\n",
       "</div>"
      ],
      "text/plain": [
       "                                                text    jutsus\n",
       "0  Arm of Shukaku. Gaara engulfs himself in a san...  Ninjutsu\n",
       "1  Armageddon Countdown Clock. After performing t...  Ninjutsu\n",
       "2  Apricot Blossom Droop. Kurenai attacks her opp...  Ninjutsu\n",
       "3  Area Scanning Technique. By touching a solid s...  Ninjutsu\n",
       "4  Aqua Shoot. The user gathers a small orb of wa...  Ninjutsu"
      ]
     },
     "execution_count": 47,
     "metadata": {},
     "output_type": "execute_result"
    }
   ],
   "source": [
    "dataframe.head()"
   ]
  },
  {
   "cell_type": "code",
   "execution_count": 48,
   "metadata": {},
   "outputs": [],
   "source": [
    "from bs4 import BeautifulSoup\n",
    "\n",
    "\n",
    "class DataCleaner():\n",
    "\n",
    "    def __init__(self) -> None:\n",
    "        pass \n",
    "\n",
    "    \n",
    "    def insert_line_breaks(self, text):\n",
    "        return text.replace('<\\p>', '<\\p>\\n')\n",
    "    \n",
    "\n",
    "    def remove_html_tags(self, text):\n",
    "        return BeautifulSoup(text, 'lxml').text\n",
    "\n",
    "    \n",
    "    def clean(self, text):\n",
    "        text = self.insert_line_breaks(text=text)\n",
    "        text = self.remove_html_tags(text=text)\n",
    "        text = text.strip()\n",
    "        return text"
   ]
  },
  {
   "cell_type": "code",
   "execution_count": 49,
   "metadata": {},
   "outputs": [
    {
     "name": "stderr",
     "output_type": "stream",
     "text": [
      "C:\\Users\\zingi\\AppData\\Local\\Temp\\ipykernel_10340\\4137544681.py:15: MarkupResemblesLocatorWarning: The input looks more like a filename than markup. You may want to open this file and pass the filehandle into Beautiful Soup.\n",
      "  return BeautifulSoup(text, 'lxml').text\n"
     ]
    }
   ],
   "source": [
    "text_column_name = 'text'\n",
    "label_column_name = 'jutsus'\n",
    "\n",
    "cleaner = DataCleaner()\n",
    "\n",
    "dataframe['processed_text'] = dataframe[text_column_name].apply(cleaner.clean)"
   ]
  },
  {
   "cell_type": "code",
   "execution_count": 50,
   "metadata": {},
   "outputs": [
    {
     "data": {
      "text/html": [
       "<div>\n",
       "<style scoped>\n",
       "    .dataframe tbody tr th:only-of-type {\n",
       "        vertical-align: middle;\n",
       "    }\n",
       "\n",
       "    .dataframe tbody tr th {\n",
       "        vertical-align: top;\n",
       "    }\n",
       "\n",
       "    .dataframe thead th {\n",
       "        text-align: right;\n",
       "    }\n",
       "</style>\n",
       "<table border=\"1\" class=\"dataframe\">\n",
       "  <thead>\n",
       "    <tr style=\"text-align: right;\">\n",
       "      <th></th>\n",
       "      <th>text</th>\n",
       "      <th>jutsus</th>\n",
       "      <th>processed_text</th>\n",
       "    </tr>\n",
       "  </thead>\n",
       "  <tbody>\n",
       "    <tr>\n",
       "      <th>0</th>\n",
       "      <td>Arm of Shukaku. Gaara engulfs himself in a san...</td>\n",
       "      <td>Ninjutsu</td>\n",
       "      <td>Arm of Shukaku. Gaara engulfs himself in a san...</td>\n",
       "    </tr>\n",
       "    <tr>\n",
       "      <th>1</th>\n",
       "      <td>Armageddon Countdown Clock. After performing t...</td>\n",
       "      <td>Ninjutsu</td>\n",
       "      <td>Armageddon Countdown Clock. After performing t...</td>\n",
       "    </tr>\n",
       "    <tr>\n",
       "      <th>2</th>\n",
       "      <td>Apricot Blossom Droop. Kurenai attacks her opp...</td>\n",
       "      <td>Ninjutsu</td>\n",
       "      <td>Apricot Blossom Droop. Kurenai attacks her opp...</td>\n",
       "    </tr>\n",
       "    <tr>\n",
       "      <th>3</th>\n",
       "      <td>Area Scanning Technique. By touching a solid s...</td>\n",
       "      <td>Ninjutsu</td>\n",
       "      <td>Area Scanning Technique. By touching a solid s...</td>\n",
       "    </tr>\n",
       "    <tr>\n",
       "      <th>4</th>\n",
       "      <td>Aqua Shoot. The user gathers a small orb of wa...</td>\n",
       "      <td>Ninjutsu</td>\n",
       "      <td>Aqua Shoot. The user gathers a small orb of wa...</td>\n",
       "    </tr>\n",
       "    <tr>\n",
       "      <th>...</th>\n",
       "      <td>...</td>\n",
       "      <td>...</td>\n",
       "      <td>...</td>\n",
       "    </tr>\n",
       "    <tr>\n",
       "      <th>2919</th>\n",
       "      <td>Absorption Sphere. Using the Jutsu Absorption ...</td>\n",
       "      <td>Ninjutsu</td>\n",
       "      <td>Absorption Sphere. Using the Jutsu Absorption ...</td>\n",
       "    </tr>\n",
       "    <tr>\n",
       "      <th>2920</th>\n",
       "      <td>Absolute: Fang Passing Fang. Kiba and Akamaru ...</td>\n",
       "      <td>Taijutsu</td>\n",
       "      <td>Absolute: Fang Passing Fang. Kiba and Akamaru ...</td>\n",
       "    </tr>\n",
       "    <tr>\n",
       "      <th>2921</th>\n",
       "      <td>100% Single Punch. Tsunade gathers large amoun...</td>\n",
       "      <td>Taijutsu</td>\n",
       "      <td>100% Single Punch. Tsunade gathers large amoun...</td>\n",
       "    </tr>\n",
       "    <tr>\n",
       "      <th>2922</th>\n",
       "      <td>100 Metre Punch. A shorter version of the 1000...</td>\n",
       "      <td>Taijutsu</td>\n",
       "      <td>100 Metre Punch. A shorter version of the 1000...</td>\n",
       "    </tr>\n",
       "    <tr>\n",
       "      <th>2923</th>\n",
       "      <td>Acidic Sludge. The user spits out a small purp...</td>\n",
       "      <td>Ninjutsu</td>\n",
       "      <td>Acidic Sludge. The user spits out a small purp...</td>\n",
       "    </tr>\n",
       "  </tbody>\n",
       "</table>\n",
       "<p>2756 rows × 3 columns</p>\n",
       "</div>"
      ],
      "text/plain": [
       "                                                   text    jutsus  \\\n",
       "0     Arm of Shukaku. Gaara engulfs himself in a san...  Ninjutsu   \n",
       "1     Armageddon Countdown Clock. After performing t...  Ninjutsu   \n",
       "2     Apricot Blossom Droop. Kurenai attacks her opp...  Ninjutsu   \n",
       "3     Area Scanning Technique. By touching a solid s...  Ninjutsu   \n",
       "4     Aqua Shoot. The user gathers a small orb of wa...  Ninjutsu   \n",
       "...                                                 ...       ...   \n",
       "2919  Absorption Sphere. Using the Jutsu Absorption ...  Ninjutsu   \n",
       "2920  Absolute: Fang Passing Fang. Kiba and Akamaru ...  Taijutsu   \n",
       "2921  100% Single Punch. Tsunade gathers large amoun...  Taijutsu   \n",
       "2922  100 Metre Punch. A shorter version of the 1000...  Taijutsu   \n",
       "2923  Acidic Sludge. The user spits out a small purp...  Ninjutsu   \n",
       "\n",
       "                                         processed_text  \n",
       "0     Arm of Shukaku. Gaara engulfs himself in a san...  \n",
       "1     Armageddon Countdown Clock. After performing t...  \n",
       "2     Apricot Blossom Droop. Kurenai attacks her opp...  \n",
       "3     Area Scanning Technique. By touching a solid s...  \n",
       "4     Aqua Shoot. The user gathers a small orb of wa...  \n",
       "...                                                 ...  \n",
       "2919  Absorption Sphere. Using the Jutsu Absorption ...  \n",
       "2920  Absolute: Fang Passing Fang. Kiba and Akamaru ...  \n",
       "2921  100% Single Punch. Tsunade gathers large amoun...  \n",
       "2922  100 Metre Punch. A shorter version of the 1000...  \n",
       "2923  Acidic Sludge. The user spits out a small purp...  \n",
       "\n",
       "[2756 rows x 3 columns]"
      ]
     },
     "execution_count": 50,
     "metadata": {},
     "output_type": "execute_result"
    }
   ],
   "source": [
    "dataframe"
   ]
  },
  {
   "cell_type": "code",
   "execution_count": 51,
   "metadata": {},
   "outputs": [
    {
     "data": {
      "text/html": [
       "<style>#sk-container-id-3 {color: black;}#sk-container-id-3 pre{padding: 0;}#sk-container-id-3 div.sk-toggleable {background-color: white;}#sk-container-id-3 label.sk-toggleable__label {cursor: pointer;display: block;width: 100%;margin-bottom: 0;padding: 0.3em;box-sizing: border-box;text-align: center;}#sk-container-id-3 label.sk-toggleable__label-arrow:before {content: \"▸\";float: left;margin-right: 0.25em;color: #696969;}#sk-container-id-3 label.sk-toggleable__label-arrow:hover:before {color: black;}#sk-container-id-3 div.sk-estimator:hover label.sk-toggleable__label-arrow:before {color: black;}#sk-container-id-3 div.sk-toggleable__content {max-height: 0;max-width: 0;overflow: hidden;text-align: left;background-color: #f0f8ff;}#sk-container-id-3 div.sk-toggleable__content pre {margin: 0.2em;color: black;border-radius: 0.25em;background-color: #f0f8ff;}#sk-container-id-3 input.sk-toggleable__control:checked~div.sk-toggleable__content {max-height: 200px;max-width: 100%;overflow: auto;}#sk-container-id-3 input.sk-toggleable__control:checked~label.sk-toggleable__label-arrow:before {content: \"▾\";}#sk-container-id-3 div.sk-estimator input.sk-toggleable__control:checked~label.sk-toggleable__label {background-color: #d4ebff;}#sk-container-id-3 div.sk-label input.sk-toggleable__control:checked~label.sk-toggleable__label {background-color: #d4ebff;}#sk-container-id-3 input.sk-hidden--visually {border: 0;clip: rect(1px 1px 1px 1px);clip: rect(1px, 1px, 1px, 1px);height: 1px;margin: -1px;overflow: hidden;padding: 0;position: absolute;width: 1px;}#sk-container-id-3 div.sk-estimator {font-family: monospace;background-color: #f0f8ff;border: 1px dotted black;border-radius: 0.25em;box-sizing: border-box;margin-bottom: 0.5em;}#sk-container-id-3 div.sk-estimator:hover {background-color: #d4ebff;}#sk-container-id-3 div.sk-parallel-item::after {content: \"\";width: 100%;border-bottom: 1px solid gray;flex-grow: 1;}#sk-container-id-3 div.sk-label:hover label.sk-toggleable__label {background-color: #d4ebff;}#sk-container-id-3 div.sk-serial::before {content: \"\";position: absolute;border-left: 1px solid gray;box-sizing: border-box;top: 0;bottom: 0;left: 50%;z-index: 0;}#sk-container-id-3 div.sk-serial {display: flex;flex-direction: column;align-items: center;background-color: white;padding-right: 0.2em;padding-left: 0.2em;position: relative;}#sk-container-id-3 div.sk-item {position: relative;z-index: 1;}#sk-container-id-3 div.sk-parallel {display: flex;align-items: stretch;justify-content: center;background-color: white;position: relative;}#sk-container-id-3 div.sk-item::before, #sk-container-id-3 div.sk-parallel-item::before {content: \"\";position: absolute;border-left: 1px solid gray;box-sizing: border-box;top: 0;bottom: 0;left: 50%;z-index: -1;}#sk-container-id-3 div.sk-parallel-item {display: flex;flex-direction: column;z-index: 1;position: relative;background-color: white;}#sk-container-id-3 div.sk-parallel-item:first-child::after {align-self: flex-end;width: 50%;}#sk-container-id-3 div.sk-parallel-item:last-child::after {align-self: flex-start;width: 50%;}#sk-container-id-3 div.sk-parallel-item:only-child::after {width: 0;}#sk-container-id-3 div.sk-dashed-wrapped {border: 1px dashed gray;margin: 0 0.4em 0.5em 0.4em;box-sizing: border-box;padding-bottom: 0.4em;background-color: white;}#sk-container-id-3 div.sk-label label {font-family: monospace;font-weight: bold;display: inline-block;line-height: 1.2em;}#sk-container-id-3 div.sk-label-container {text-align: center;}#sk-container-id-3 div.sk-container {/* jupyter's `normalize.less` sets `[hidden] { display: none; }` but bootstrap.min.css set `[hidden] { display: none !important; }` so we also need the `!important` here to be able to override the default hidden behavior on the sphinx rendered scikit-learn.org. See: https://github.com/scikit-learn/scikit-learn/issues/21755 */display: inline-block !important;position: relative;}#sk-container-id-3 div.sk-text-repr-fallback {display: none;}</style><div id=\"sk-container-id-3\" class=\"sk-top-container\"><div class=\"sk-text-repr-fallback\"><pre>LabelEncoder()</pre><b>In a Jupyter environment, please rerun this cell to show the HTML representation or trust the notebook. <br />On GitHub, the HTML representation is unable to render, please try loading this page with nbviewer.org.</b></div><div class=\"sk-container\" hidden><div class=\"sk-item\"><div class=\"sk-estimator sk-toggleable\"><input class=\"sk-toggleable__control sk-hidden--visually\" id=\"sk-estimator-id-3\" type=\"checkbox\" checked><label for=\"sk-estimator-id-3\" class=\"sk-toggleable__label sk-toggleable__label-arrow\">LabelEncoder</label><div class=\"sk-toggleable__content\"><pre>LabelEncoder()</pre></div></div></div></div></div>"
      ],
      "text/plain": [
       "LabelEncoder()"
      ]
     },
     "execution_count": 51,
     "metadata": {},
     "output_type": "execute_result"
    }
   ],
   "source": [
    "from sklearn import preprocessing\n",
    "\n",
    "# Encode labels as part of model preprocessing. \n",
    "\n",
    "lbl_encoder = preprocessing.LabelEncoder()\n",
    "lbl_encoder.fit(dataframe[label_column_name].tolist())"
   ]
  },
  {
   "cell_type": "code",
   "execution_count": 52,
   "metadata": {},
   "outputs": [
    {
     "data": {
      "text/plain": [
       "{0: 'Genjutsu', 1: 'Ninjutsu', 2: 'Taijutsu'}"
      ]
     },
     "execution_count": 52,
     "metadata": {},
     "output_type": "execute_result"
    }
   ],
   "source": [
    "lbl_dict = { index:label for index, label in enumerate(lbl_encoder.__dict__['classes_'].tolist()) }\n",
    "lbl_dict"
   ]
  },
  {
   "cell_type": "code",
   "execution_count": 53,
   "metadata": {},
   "outputs": [],
   "source": [
    "dataframe['label'] = lbl_encoder.transform(dataframe[label_column_name].tolist())"
   ]
  },
  {
   "cell_type": "code",
   "execution_count": 54,
   "metadata": {},
   "outputs": [
    {
     "data": {
      "text/html": [
       "<div>\n",
       "<style scoped>\n",
       "    .dataframe tbody tr th:only-of-type {\n",
       "        vertical-align: middle;\n",
       "    }\n",
       "\n",
       "    .dataframe tbody tr th {\n",
       "        vertical-align: top;\n",
       "    }\n",
       "\n",
       "    .dataframe thead th {\n",
       "        text-align: right;\n",
       "    }\n",
       "</style>\n",
       "<table border=\"1\" class=\"dataframe\">\n",
       "  <thead>\n",
       "    <tr style=\"text-align: right;\">\n",
       "      <th></th>\n",
       "      <th>text</th>\n",
       "      <th>jutsus</th>\n",
       "      <th>processed_text</th>\n",
       "      <th>label</th>\n",
       "    </tr>\n",
       "  </thead>\n",
       "  <tbody>\n",
       "    <tr>\n",
       "      <th>0</th>\n",
       "      <td>Arm of Shukaku. Gaara engulfs himself in a san...</td>\n",
       "      <td>Ninjutsu</td>\n",
       "      <td>Arm of Shukaku. Gaara engulfs himself in a san...</td>\n",
       "      <td>1</td>\n",
       "    </tr>\n",
       "    <tr>\n",
       "      <th>1</th>\n",
       "      <td>Armageddon Countdown Clock. After performing t...</td>\n",
       "      <td>Ninjutsu</td>\n",
       "      <td>Armageddon Countdown Clock. After performing t...</td>\n",
       "      <td>1</td>\n",
       "    </tr>\n",
       "    <tr>\n",
       "      <th>2</th>\n",
       "      <td>Apricot Blossom Droop. Kurenai attacks her opp...</td>\n",
       "      <td>Ninjutsu</td>\n",
       "      <td>Apricot Blossom Droop. Kurenai attacks her opp...</td>\n",
       "      <td>1</td>\n",
       "    </tr>\n",
       "    <tr>\n",
       "      <th>3</th>\n",
       "      <td>Area Scanning Technique. By touching a solid s...</td>\n",
       "      <td>Ninjutsu</td>\n",
       "      <td>Area Scanning Technique. By touching a solid s...</td>\n",
       "      <td>1</td>\n",
       "    </tr>\n",
       "    <tr>\n",
       "      <th>4</th>\n",
       "      <td>Aqua Shoot. The user gathers a small orb of wa...</td>\n",
       "      <td>Ninjutsu</td>\n",
       "      <td>Aqua Shoot. The user gathers a small orb of wa...</td>\n",
       "      <td>1</td>\n",
       "    </tr>\n",
       "  </tbody>\n",
       "</table>\n",
       "</div>"
      ],
      "text/plain": [
       "                                                text    jutsus  \\\n",
       "0  Arm of Shukaku. Gaara engulfs himself in a san...  Ninjutsu   \n",
       "1  Armageddon Countdown Clock. After performing t...  Ninjutsu   \n",
       "2  Apricot Blossom Droop. Kurenai attacks her opp...  Ninjutsu   \n",
       "3  Area Scanning Technique. By touching a solid s...  Ninjutsu   \n",
       "4  Aqua Shoot. The user gathers a small orb of wa...  Ninjutsu   \n",
       "\n",
       "                                      processed_text  label  \n",
       "0  Arm of Shukaku. Gaara engulfs himself in a san...      1  \n",
       "1  Armageddon Countdown Clock. After performing t...      1  \n",
       "2  Apricot Blossom Droop. Kurenai attacks her opp...      1  \n",
       "3  Area Scanning Technique. By touching a solid s...      1  \n",
       "4  Aqua Shoot. The user gathers a small orb of wa...      1  "
      ]
     },
     "execution_count": 54,
     "metadata": {},
     "output_type": "execute_result"
    }
   ],
   "source": [
    "dataframe.head()"
   ]
  },
  {
   "cell_type": "code",
   "execution_count": 55,
   "metadata": {},
   "outputs": [],
   "source": [
    "from sklearn.model_selection import train_test_split\n",
    "\n",
    "test_size=0.2\n",
    "\n",
    "dataframe_train, dataframe_test = train_test_split(dataframe, test_size=test_size, stratify=dataframe['label'])"
   ]
  },
  {
   "cell_type": "code",
   "execution_count": 56,
   "metadata": {},
   "outputs": [
    {
     "data": {
      "text/plain": [
       "jutsus\n",
       "Ninjutsu    1806\n",
       "Taijutsu     317\n",
       "Genjutsu      81\n",
       "Name: count, dtype: int64"
      ]
     },
     "execution_count": 56,
     "metadata": {},
     "output_type": "execute_result"
    }
   ],
   "source": [
    "dataframe_train['jutsus'].value_counts()"
   ]
  },
  {
   "cell_type": "code",
   "execution_count": 57,
   "metadata": {},
   "outputs": [
    {
     "name": "stderr",
     "output_type": "stream",
     "text": [
      "c:\\Users\\zingi\\anaconda3\\envs\\nlpwgpu\\lib\\site-packages\\transformers\\tokenization_utils_base.py:1601: FutureWarning: `clean_up_tokenization_spaces` was not set. It will be set to `True` by default. This behavior will be depracted in transformers v4.45, and will be then set to `False` by default. For more details check this issue: https://github.com/huggingface/transformers/issues/31884\n",
      "  warnings.warn(\n"
     ]
    }
   ],
   "source": [
    "from transformers import AutoTokenizer\n",
    "\n",
    "model_name = 'distilbert/distilbert-base-uncased'\n",
    "\n",
    "tokenizer = AutoTokenizer.from_pretrained(model_name)\n"
   ]
  },
  {
   "cell_type": "code",
   "execution_count": 58,
   "metadata": {},
   "outputs": [],
   "source": [
    "def process_function(tokenizer, examples):\n",
    "    ''' '''\n",
    "\n",
    "\n",
    "    return tokenizer(examples['processed_text'], truncation=True)"
   ]
  },
  {
   "cell_type": "code",
   "execution_count": 59,
   "metadata": {},
   "outputs": [
    {
     "name": "stderr",
     "output_type": "stream",
     "text": [
      "Map: 100%|██████████| 2204/2204 [00:00<00:00, 8103.08 examples/s]\n",
      "Map: 100%|██████████| 552/552 [00:00<00:00, 8118.06 examples/s]\n"
     ]
    }
   ],
   "source": [
    "from datasets import Dataset\n",
    "\n",
    "## Convert pandas into hugging face dataset making appropriate for models. \n",
    "\n",
    "training_dataset = Dataset.from_pandas(dataframe_train)\n",
    "testing_dataset = Dataset.from_pandas(dataframe_test)\n",
    "\n",
    "tokenized_training_set = training_dataset.map(lambda examples: process_function(tokenizer=tokenizer, examples=examples), batched=True)\n",
    "tokenized_testing_set = testing_dataset.map(lambda examples: process_function(tokenizer=tokenizer, examples=examples), batched=True)"
   ]
  }
 ],
 "metadata": {
  "kernelspec": {
   "display_name": "nlpwgpu",
   "language": "python",
   "name": "python3"
  },
  "language_info": {
   "codemirror_mode": {
    "name": "ipython",
    "version": 3
   },
   "file_extension": ".py",
   "mimetype": "text/x-python",
   "name": "python",
   "nbconvert_exporter": "python",
   "pygments_lexer": "ipython3",
   "version": "3.8.19"
  }
 },
 "nbformat": 4,
 "nbformat_minor": 2
}
